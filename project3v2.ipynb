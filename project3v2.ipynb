{
 "cells": [
  {
   "cell_type": "markdown",
   "metadata": {},
   "source": [
    "## Investigate a Dataset\n",
    "### Andrew San Martin \n",
    "### 7/19/2017"
   ]
  },
  {
   "cell_type": "markdown",
   "metadata": {},
   "source": [
    "# Problem\n",
    "### 1)What is the average age that where in the titanic?\n",
    "### 2)What is the average age that where in the titanic and are alive?\n",
    "### 3)What is the Relationship between Sex and Survial?"
   ]
  },
  {
   "cell_type": "markdown",
   "metadata": {},
   "source": [
    "# Data Wrangling\n",
    "#### In this section i imported panda , "
   ]
  },
  {
   "cell_type": "code",
   "execution_count": 1,
   "metadata": {
    "collapsed": true
   },
   "outputs": [],
   "source": [
    "import pandas as pd\n",
    "import numpy  as np\n",
    "import matplotlib.pyplot as plt"
   ]
  },
  {
   "cell_type": "code",
   "execution_count": 2,
   "metadata": {
    "collapsed": true
   },
   "outputs": [],
   "source": [
    "titanic_df = pd.read_csv(\"titanic-data.csv\")"
   ]
  },
  {
   "cell_type": "code",
   "execution_count": 3,
   "metadata": {},
   "outputs": [
    {
     "data": {
      "text/html": [
       "<div>\n",
       "<style>\n",
       "    .dataframe thead tr:only-child th {\n",
       "        text-align: right;\n",
       "    }\n",
       "\n",
       "    .dataframe thead th {\n",
       "        text-align: left;\n",
       "    }\n",
       "\n",
       "    .dataframe tbody tr th {\n",
       "        vertical-align: top;\n",
       "    }\n",
       "</style>\n",
       "<table border=\"1\" class=\"dataframe\">\n",
       "  <thead>\n",
       "    <tr style=\"text-align: right;\">\n",
       "      <th></th>\n",
       "      <th>PassengerId</th>\n",
       "      <th>Survived</th>\n",
       "      <th>Pclass</th>\n",
       "      <th>Name</th>\n",
       "      <th>Sex</th>\n",
       "      <th>Age</th>\n",
       "      <th>SibSp</th>\n",
       "      <th>Parch</th>\n",
       "      <th>Ticket</th>\n",
       "      <th>Fare</th>\n",
       "      <th>Cabin</th>\n",
       "      <th>Embarked</th>\n",
       "    </tr>\n",
       "  </thead>\n",
       "  <tbody>\n",
       "    <tr>\n",
       "      <th>0</th>\n",
       "      <td>1</td>\n",
       "      <td>0</td>\n",
       "      <td>3</td>\n",
       "      <td>Braund, Mr. Owen Harris</td>\n",
       "      <td>male</td>\n",
       "      <td>22.0</td>\n",
       "      <td>1</td>\n",
       "      <td>0</td>\n",
       "      <td>A/5 21171</td>\n",
       "      <td>7.2500</td>\n",
       "      <td>NaN</td>\n",
       "      <td>S</td>\n",
       "    </tr>\n",
       "    <tr>\n",
       "      <th>1</th>\n",
       "      <td>2</td>\n",
       "      <td>1</td>\n",
       "      <td>1</td>\n",
       "      <td>Cumings, Mrs. John Bradley (Florence Briggs Th...</td>\n",
       "      <td>female</td>\n",
       "      <td>38.0</td>\n",
       "      <td>1</td>\n",
       "      <td>0</td>\n",
       "      <td>PC 17599</td>\n",
       "      <td>71.2833</td>\n",
       "      <td>C85</td>\n",
       "      <td>C</td>\n",
       "    </tr>\n",
       "    <tr>\n",
       "      <th>2</th>\n",
       "      <td>3</td>\n",
       "      <td>1</td>\n",
       "      <td>3</td>\n",
       "      <td>Heikkinen, Miss. Laina</td>\n",
       "      <td>female</td>\n",
       "      <td>26.0</td>\n",
       "      <td>0</td>\n",
       "      <td>0</td>\n",
       "      <td>STON/O2. 3101282</td>\n",
       "      <td>7.9250</td>\n",
       "      <td>NaN</td>\n",
       "      <td>S</td>\n",
       "    </tr>\n",
       "    <tr>\n",
       "      <th>3</th>\n",
       "      <td>4</td>\n",
       "      <td>1</td>\n",
       "      <td>1</td>\n",
       "      <td>Futrelle, Mrs. Jacques Heath (Lily May Peel)</td>\n",
       "      <td>female</td>\n",
       "      <td>35.0</td>\n",
       "      <td>1</td>\n",
       "      <td>0</td>\n",
       "      <td>113803</td>\n",
       "      <td>53.1000</td>\n",
       "      <td>C123</td>\n",
       "      <td>S</td>\n",
       "    </tr>\n",
       "    <tr>\n",
       "      <th>4</th>\n",
       "      <td>5</td>\n",
       "      <td>0</td>\n",
       "      <td>3</td>\n",
       "      <td>Allen, Mr. William Henry</td>\n",
       "      <td>male</td>\n",
       "      <td>35.0</td>\n",
       "      <td>0</td>\n",
       "      <td>0</td>\n",
       "      <td>373450</td>\n",
       "      <td>8.0500</td>\n",
       "      <td>NaN</td>\n",
       "      <td>S</td>\n",
       "    </tr>\n",
       "  </tbody>\n",
       "</table>\n",
       "</div>"
      ],
      "text/plain": [
       "   PassengerId  Survived  Pclass  \\\n",
       "0            1         0       3   \n",
       "1            2         1       1   \n",
       "2            3         1       3   \n",
       "3            4         1       1   \n",
       "4            5         0       3   \n",
       "\n",
       "                                                Name     Sex   Age  SibSp  \\\n",
       "0                            Braund, Mr. Owen Harris    male  22.0      1   \n",
       "1  Cumings, Mrs. John Bradley (Florence Briggs Th...  female  38.0      1   \n",
       "2                             Heikkinen, Miss. Laina  female  26.0      0   \n",
       "3       Futrelle, Mrs. Jacques Heath (Lily May Peel)  female  35.0      1   \n",
       "4                           Allen, Mr. William Henry    male  35.0      0   \n",
       "\n",
       "   Parch            Ticket     Fare Cabin Embarked  \n",
       "0      0         A/5 21171   7.2500   NaN        S  \n",
       "1      0          PC 17599  71.2833   C85        C  \n",
       "2      0  STON/O2. 3101282   7.9250   NaN        S  \n",
       "3      0            113803  53.1000  C123        S  \n",
       "4      0            373450   8.0500   NaN        S  "
      ]
     },
     "execution_count": 3,
     "metadata": {},
     "output_type": "execute_result"
    }
   ],
   "source": [
    "titanic_df.head()"
   ]
  },
  {
   "cell_type": "code",
   "execution_count": 4,
   "metadata": {},
   "outputs": [
    {
     "data": {
      "text/html": [
       "<div>\n",
       "<style>\n",
       "    .dataframe thead tr:only-child th {\n",
       "        text-align: right;\n",
       "    }\n",
       "\n",
       "    .dataframe thead th {\n",
       "        text-align: left;\n",
       "    }\n",
       "\n",
       "    .dataframe tbody tr th {\n",
       "        vertical-align: top;\n",
       "    }\n",
       "</style>\n",
       "<table border=\"1\" class=\"dataframe\">\n",
       "  <thead>\n",
       "    <tr style=\"text-align: right;\">\n",
       "      <th></th>\n",
       "      <th>PassengerId</th>\n",
       "      <th>Survived</th>\n",
       "      <th>Pclass</th>\n",
       "      <th>Name</th>\n",
       "      <th>Sex</th>\n",
       "      <th>Age</th>\n",
       "      <th>SibSp</th>\n",
       "      <th>Parch</th>\n",
       "      <th>Ticket</th>\n",
       "      <th>Fare</th>\n",
       "      <th>Cabin</th>\n",
       "      <th>Embarked</th>\n",
       "    </tr>\n",
       "  </thead>\n",
       "  <tbody>\n",
       "    <tr>\n",
       "      <th>886</th>\n",
       "      <td>887</td>\n",
       "      <td>0</td>\n",
       "      <td>2</td>\n",
       "      <td>Montvila, Rev. Juozas</td>\n",
       "      <td>male</td>\n",
       "      <td>27.0</td>\n",
       "      <td>0</td>\n",
       "      <td>0</td>\n",
       "      <td>211536</td>\n",
       "      <td>13.00</td>\n",
       "      <td>NaN</td>\n",
       "      <td>S</td>\n",
       "    </tr>\n",
       "    <tr>\n",
       "      <th>887</th>\n",
       "      <td>888</td>\n",
       "      <td>1</td>\n",
       "      <td>1</td>\n",
       "      <td>Graham, Miss. Margaret Edith</td>\n",
       "      <td>female</td>\n",
       "      <td>19.0</td>\n",
       "      <td>0</td>\n",
       "      <td>0</td>\n",
       "      <td>112053</td>\n",
       "      <td>30.00</td>\n",
       "      <td>B42</td>\n",
       "      <td>S</td>\n",
       "    </tr>\n",
       "    <tr>\n",
       "      <th>888</th>\n",
       "      <td>889</td>\n",
       "      <td>0</td>\n",
       "      <td>3</td>\n",
       "      <td>Johnston, Miss. Catherine Helen \"Carrie\"</td>\n",
       "      <td>female</td>\n",
       "      <td>NaN</td>\n",
       "      <td>1</td>\n",
       "      <td>2</td>\n",
       "      <td>W./C. 6607</td>\n",
       "      <td>23.45</td>\n",
       "      <td>NaN</td>\n",
       "      <td>S</td>\n",
       "    </tr>\n",
       "    <tr>\n",
       "      <th>889</th>\n",
       "      <td>890</td>\n",
       "      <td>1</td>\n",
       "      <td>1</td>\n",
       "      <td>Behr, Mr. Karl Howell</td>\n",
       "      <td>male</td>\n",
       "      <td>26.0</td>\n",
       "      <td>0</td>\n",
       "      <td>0</td>\n",
       "      <td>111369</td>\n",
       "      <td>30.00</td>\n",
       "      <td>C148</td>\n",
       "      <td>C</td>\n",
       "    </tr>\n",
       "    <tr>\n",
       "      <th>890</th>\n",
       "      <td>891</td>\n",
       "      <td>0</td>\n",
       "      <td>3</td>\n",
       "      <td>Dooley, Mr. Patrick</td>\n",
       "      <td>male</td>\n",
       "      <td>32.0</td>\n",
       "      <td>0</td>\n",
       "      <td>0</td>\n",
       "      <td>370376</td>\n",
       "      <td>7.75</td>\n",
       "      <td>NaN</td>\n",
       "      <td>Q</td>\n",
       "    </tr>\n",
       "  </tbody>\n",
       "</table>\n",
       "</div>"
      ],
      "text/plain": [
       "     PassengerId  Survived  Pclass                                      Name  \\\n",
       "886          887         0       2                     Montvila, Rev. Juozas   \n",
       "887          888         1       1              Graham, Miss. Margaret Edith   \n",
       "888          889         0       3  Johnston, Miss. Catherine Helen \"Carrie\"   \n",
       "889          890         1       1                     Behr, Mr. Karl Howell   \n",
       "890          891         0       3                       Dooley, Mr. Patrick   \n",
       "\n",
       "        Sex   Age  SibSp  Parch      Ticket   Fare Cabin Embarked  \n",
       "886    male  27.0      0      0      211536  13.00   NaN        S  \n",
       "887  female  19.0      0      0      112053  30.00   B42        S  \n",
       "888  female   NaN      1      2  W./C. 6607  23.45   NaN        S  \n",
       "889    male  26.0      0      0      111369  30.00  C148        C  \n",
       "890    male  32.0      0      0      370376   7.75   NaN        Q  "
      ]
     },
     "execution_count": 4,
     "metadata": {},
     "output_type": "execute_result"
    }
   ],
   "source": [
    "titanic_df.tail()"
   ]
  },
  {
   "cell_type": "code",
   "execution_count": 5,
   "metadata": {
    "collapsed": true
   },
   "outputs": [],
   "source": [
    "#######################################################################################################################"
   ]
  },
  {
   "cell_type": "code",
   "execution_count": 6,
   "metadata": {
    "collapsed": true
   },
   "outputs": [],
   "source": [
    "##############################################AGE#########################################################################"
   ]
  },
  {
   "cell_type": "markdown",
   "metadata": {},
   "source": [
    "####  When i look over the age section i see that their are people that don't have ages so i drop all those from my array and then find the mean, median, and Std"
   ]
  },
  {
   "cell_type": "markdown",
   "metadata": {},
   "source": [
    "### In cell bellow i  drop the NA values from my array and I print them out and make a Histogram "
   ]
  },
  {
   "cell_type": "code",
   "execution_count": 73,
   "metadata": {},
   "outputs": [
    {
     "name": "stdout",
     "output_type": "stream",
     "text": [
      "0      22.0\n",
      "1      38.0\n",
      "2      26.0\n",
      "3      35.0\n",
      "4      35.0\n",
      "6      54.0\n",
      "7       2.0\n",
      "8      27.0\n",
      "9      14.0\n",
      "10      4.0\n",
      "11     58.0\n",
      "12     20.0\n",
      "13     39.0\n",
      "14     14.0\n",
      "15     55.0\n",
      "16      2.0\n",
      "18     31.0\n",
      "20     35.0\n",
      "21     34.0\n",
      "22     15.0\n",
      "23     28.0\n",
      "24      8.0\n",
      "25     38.0\n",
      "27     19.0\n",
      "30     40.0\n",
      "33     66.0\n",
      "34     28.0\n",
      "35     42.0\n",
      "37     21.0\n",
      "38     18.0\n",
      "       ... \n",
      "856    45.0\n",
      "857    51.0\n",
      "858    24.0\n",
      "860    41.0\n",
      "861    21.0\n",
      "862    48.0\n",
      "864    24.0\n",
      "865    42.0\n",
      "866    27.0\n",
      "867    31.0\n",
      "869     4.0\n",
      "870    26.0\n",
      "871    47.0\n",
      "872    33.0\n",
      "873    47.0\n",
      "874    28.0\n",
      "875    15.0\n",
      "876    20.0\n",
      "877    19.0\n",
      "879    56.0\n",
      "880    25.0\n",
      "881    33.0\n",
      "882    22.0\n",
      "883    28.0\n",
      "884    25.0\n",
      "885    39.0\n",
      "886    27.0\n",
      "887    19.0\n",
      "889    26.0\n",
      "890    32.0\n",
      "Name: Age, Length: 714, dtype: float64\n",
      "Populating the interactive namespace from numpy and matplotlib\n"
     ]
    },
    {
     "data": {
      "text/plain": [
       "<matplotlib.text.Text at 0x1c6dc802be0>"
      ]
     },
     "execution_count": 73,
     "metadata": {},
     "output_type": "execute_result"
    },
    {
     "data": {
      "image/png": "[encoded data removed]",
      "text/plain": [
       "<matplotlib.figure.Figure at 0x1c6dc7645c0>"
      ]
     },
     "metadata": {},
     "output_type": "display_data"
    }
   ],
   "source": [
    "total= titanic_df[\"Age\"].dropna()\n",
    "print(total)\n",
    "%pylab inline\n",
    "plt.hist(total)\n",
    "plt.xlabel(\"Age\")\n",
    "plt.ylabel(\"Frequency\")\n",
    "plt.suptitle(\"Average age Overall\")"
   ]
  },
  {
   "cell_type": "markdown",
   "metadata": {},
   "source": [
    "### In the cell below i find the mean ,median and Std "
   ]
  },
  {
   "cell_type": "code",
   "execution_count": 8,
   "metadata": {
    "collapsed": true
   },
   "outputs": [],
   "source": [
    "#Age (Overall)\n",
    "def agesum(age):\n",
    "    agemean   = age.mean()\n",
    "    agemedian = age.median()\n",
    "    agestd    =   age.std()\n",
    "    \n",
    "    return (agemean , agemedian,agestd)"
   ]
  },
  {
   "cell_type": "code",
   "execution_count": 9,
   "metadata": {},
   "outputs": [
    {
     "data": {
      "text/plain": [
       "(29.69911764705882, 28.0, 14.526497332334044)"
      ]
     },
     "execution_count": 9,
     "metadata": {},
     "output_type": "execute_result"
    }
   ],
   "source": [
    "agesum((total))# Gives the Mean, Median, STD"
   ]
  },
  {
   "cell_type": "markdown",
   "metadata": {},
   "source": [
    "### In the cell below i find the deviation from the mean"
   ]
  },
  {
   "cell_type": "code",
   "execution_count": 10,
   "metadata": {
    "collapsed": true
   },
   "outputs": [],
   "source": [
    "def standard(age):\n",
    "    agemean = age.mean()\n",
    "    agestd  = age.std()\n",
    "    return ((age-agemean)/agestd)\n",
    "    "
   ]
  },
  {
   "cell_type": "code",
   "execution_count": 11,
   "metadata": {},
   "outputs": [
    {
     "data": {
      "text/plain": [
       "0     -0.530005\n",
       "1      0.571430\n",
       "2     -0.254646\n",
       "3      0.364911\n",
       "4      0.364911\n",
       "6      1.672866\n",
       "7     -1.906799\n",
       "8     -0.185807\n",
       "9     -1.080723\n",
       "10    -1.769120\n",
       "11     1.948225\n",
       "12    -0.667685\n",
       "13     0.640270\n",
       "14    -1.080723\n",
       "15     1.741706\n",
       "16    -1.906799\n",
       "18     0.089552\n",
       "20     0.364911\n",
       "21     0.296072\n",
       "22    -1.011883\n",
       "23    -0.116967\n",
       "24    -1.493761\n",
       "25     0.571430\n",
       "27    -0.736524\n",
       "30     0.709110\n",
       "33     2.498943\n",
       "34    -0.116967\n",
       "35     0.846789\n",
       "37    -0.598845\n",
       "38    -0.805364\n",
       "         ...   \n",
       "856    1.053308\n",
       "857    1.466347\n",
       "858   -0.392326\n",
       "860    0.777950\n",
       "861   -0.598845\n",
       "862    1.259828\n",
       "864   -0.392326\n",
       "865    0.846789\n",
       "866   -0.185807\n",
       "867    0.089552\n",
       "869   -1.769120\n",
       "870   -0.254646\n",
       "871    1.190988\n",
       "872    0.227232\n",
       "873    1.190988\n",
       "874   -0.116967\n",
       "875   -1.011883\n",
       "876   -0.667685\n",
       "877   -0.736524\n",
       "879    1.810545\n",
       "880   -0.323486\n",
       "881    0.227232\n",
       "882   -0.530005\n",
       "883   -0.116967\n",
       "884   -0.323486\n",
       "885    0.640270\n",
       "886   -0.185807\n",
       "887   -0.736524\n",
       "889   -0.254646\n",
       "890    0.158392\n",
       "Name: Age, Length: 714, dtype: float64"
      ]
     },
     "execution_count": 11,
     "metadata": {},
     "output_type": "execute_result"
    }
   ],
   "source": [
    "\n",
    "(standard(total))\n"
   ]
  },
  {
   "cell_type": "code",
   "execution_count": 12,
   "metadata": {
    "collapsed": true
   },
   "outputs": [],
   "source": [
    "######################################Average Age that is Alive ######################################################"
   ]
  },
  {
   "cell_type": "markdown",
   "metadata": {},
   "source": [
    "### In the cell below I find the people that did Survive with their ages"
   ]
  },
  {
   "cell_type": "code",
   "execution_count": 13,
   "metadata": {
    "collapsed": true
   },
   "outputs": [],
   "source": [
    "#Age (Alive )\n",
    "def stilalive (alive):\n",
    "    still = alive[alive > 0 ]\n",
    "  \n",
    "    \n",
    "    return (still)"
   ]
  },
  {
   "cell_type": "markdown",
   "metadata": {},
   "source": [
    "### In the cell below i drop all the names that didn't have 0 or a 1 and don't have a age. Then i send the remaining to the cell above so it can return ages that are alive.I print out all the people that Survived and their ages"
   ]
  },
  {
   "cell_type": "code",
   "execution_count": 14,
   "metadata": {},
   "outputs": [
    {
     "name": "stdout",
     "output_type": "stream",
     "text": [
      "     Survived    Age\n",
      "1         1.0  38.00\n",
      "2         1.0  26.00\n",
      "3         1.0  35.00\n",
      "8         1.0  27.00\n",
      "9         1.0  14.00\n",
      "10        1.0   4.00\n",
      "11        1.0  58.00\n",
      "15        1.0  55.00\n",
      "21        1.0  34.00\n",
      "22        1.0  15.00\n",
      "23        1.0  28.00\n",
      "25        1.0  38.00\n",
      "39        1.0  14.00\n",
      "43        1.0   3.00\n",
      "44        1.0  19.00\n",
      "52        1.0  49.00\n",
      "53        1.0  29.00\n",
      "56        1.0  21.00\n",
      "58        1.0   5.00\n",
      "61        1.0  38.00\n",
      "66        1.0  29.00\n",
      "68        1.0  17.00\n",
      "74        1.0  32.00\n",
      "78        1.0   0.83\n",
      "79        1.0  30.00\n",
      "81        1.0  29.00\n",
      "84        1.0  17.00\n",
      "85        1.0  33.00\n",
      "88        1.0  23.00\n",
      "97        1.0  23.00\n",
      "..        ...    ...\n",
      "802       1.0  11.00\n",
      "803       1.0   0.42\n",
      "804       1.0  27.00\n",
      "809       1.0  33.00\n",
      "820       1.0  52.00\n",
      "821       1.0  27.00\n",
      "823       1.0  27.00\n",
      "827       1.0   1.00\n",
      "829       1.0  62.00\n",
      "830       1.0  15.00\n",
      "831       1.0   0.83\n",
      "835       1.0  39.00\n",
      "838       1.0  32.00\n",
      "842       1.0  30.00\n",
      "853       1.0  16.00\n",
      "855       1.0  18.00\n",
      "856       1.0  45.00\n",
      "857       1.0  51.00\n",
      "858       1.0  24.00\n",
      "862       1.0  48.00\n",
      "865       1.0  42.00\n",
      "866       1.0  27.00\n",
      "869       1.0   4.00\n",
      "871       1.0  47.00\n",
      "874       1.0  28.00\n",
      "875       1.0  15.00\n",
      "879       1.0  56.00\n",
      "880       1.0  25.00\n",
      "887       1.0  19.00\n",
      "889       1.0  26.00\n",
      "\n",
      "[290 rows x 2 columns]\n"
     ]
    }
   ],
   "source": [
    "\n",
    "both = titanic_df[[\"Survived\",\"Age\"]].dropna()    \n",
    "onestill = stilalive(both).dropna()   \n",
    "\n",
    "\n",
    "\n",
    "\n",
    "\n",
    "\n",
    "\n",
    "print(onestill)"
   ]
  },
  {
   "cell_type": "markdown",
   "metadata": {},
   "source": [
    "### In the cell below i find the mean and std so i can get Deviation of age of the surivors away from the mean"
   ]
  },
  {
   "cell_type": "code",
   "execution_count": 15,
   "metadata": {
    "collapsed": true
   },
   "outputs": [],
   "source": [
    "def overall(value):\n",
    "    mean = value.mean()\n",
    "    std  = value.std()\n",
    "    return ((value-mean)/std)\n",
    "    "
   ]
  },
  {
   "cell_type": "markdown",
   "metadata": {},
   "source": [
    "### In the cell below i get the Age column from the matrix above and i send them to the cell above to get a return of the Deviation away from the mean "
   ]
  },
  {
   "cell_type": "code",
   "execution_count": 16,
   "metadata": {},
   "outputs": [
    {
     "data": {
      "text/plain": [
       "1      0.645866\n",
       "2     -0.156759\n",
       "3      0.445210\n",
       "8     -0.089873\n",
       "9     -0.959383\n",
       "10    -1.628237\n",
       "11     1.983573\n",
       "15     1.782917\n",
       "21     0.378324\n",
       "22    -0.892498\n",
       "23    -0.022988\n",
       "25     0.645866\n",
       "39    -0.959383\n",
       "43    -1.695122\n",
       "44    -0.624956\n",
       "52     1.381605\n",
       "53     0.043898\n",
       "56    -0.491185\n",
       "58    -1.561351\n",
       "61     0.645866\n",
       "66     0.043898\n",
       "68    -0.758727\n",
       "74     0.244554\n",
       "78    -1.840263\n",
       "79     0.110783\n",
       "81     0.043898\n",
       "84    -0.758727\n",
       "85     0.311439\n",
       "88    -0.357415\n",
       "97    -0.357415\n",
       "         ...   \n",
       "802   -1.160039\n",
       "803   -1.867686\n",
       "804   -0.089873\n",
       "809    0.311439\n",
       "820    1.582261\n",
       "821   -0.089873\n",
       "823   -0.089873\n",
       "827   -1.828893\n",
       "829    2.251115\n",
       "830   -0.892498\n",
       "831   -1.840263\n",
       "835    0.712751\n",
       "838    0.244554\n",
       "842    0.110783\n",
       "853   -0.825612\n",
       "855   -0.691842\n",
       "856    1.114064\n",
       "857    1.515376\n",
       "858   -0.290529\n",
       "862    1.314720\n",
       "865    0.913407\n",
       "866   -0.089873\n",
       "869   -1.628237\n",
       "871    1.247834\n",
       "874   -0.022988\n",
       "875   -0.892498\n",
       "879    1.849803\n",
       "880   -0.223644\n",
       "887   -0.624956\n",
       "889   -0.156759\n",
       "Name: Age, Length: 290, dtype: float64"
      ]
     },
     "execution_count": 16,
     "metadata": {},
     "output_type": "execute_result"
    }
   ],
   "source": [
    "overall(onestill[\"Age\"])"
   ]
  },
  {
   "cell_type": "markdown",
   "metadata": {},
   "source": [
    "### In the two cell below i find and return the mean, median and std"
   ]
  },
  {
   "cell_type": "code",
   "execution_count": 17,
   "metadata": {
    "collapsed": true
   },
   "outputs": [],
   "source": [
    "def ave(value):\n",
    "    mean   = value.mean()\n",
    "    medium = value.median()\n",
    "    std    = value.std()\n",
    "    \n",
    "    return (mean,medium,std)"
   ]
  },
  {
   "cell_type": "code",
   "execution_count": 18,
   "metadata": {},
   "outputs": [
    {
     "data": {
      "text/plain": [
       "(28.343689655172415, 28.0, 14.950951984140426)"
      ]
     },
     "execution_count": 18,
     "metadata": {},
     "output_type": "execute_result"
    }
   ],
   "source": [
    "ave(onestill[\"Age\"])\n",
    "\n"
   ]
  },
  {
   "cell_type": "markdown",
   "metadata": {},
   "source": [
    "### I output a histogram of the ages for the survivors"
   ]
  },
  {
   "cell_type": "code",
   "execution_count": 72,
   "metadata": {},
   "outputs": [
    {
     "name": "stdout",
     "output_type": "stream",
     "text": [
      "Populating the interactive namespace from numpy and matplotlib\n"
     ]
    },
    {
     "data": {
      "text/plain": [
       "<matplotlib.text.Text at 0x1c6dc545dd8>"
      ]
     },
     "execution_count": 72,
     "metadata": {},
     "output_type": "execute_result"
    },
    {
     "data": {
      "image/png": "[encoded data removed]",
      "text/plain": [
       "<matplotlib.figure.Figure at 0x1c6dc545d30>"
      ]
     },
     "metadata": {},
     "output_type": "display_data"
    }
   ],
   "source": [
    "%pylab inline\n",
    "plt.hist(onestill[\"Age\"])\n",
    "plt.xlabel(\"Age\")\n",
    "plt.ylabel(\"Frequency\")\n",
    "plt.suptitle(\"Average age of the Survivors \")"
   ]
  },
  {
   "cell_type": "code",
   "execution_count": 20,
   "metadata": {
    "collapsed": true
   },
   "outputs": [],
   "source": [
    "############################################Sex and Survived ###########################################################"
   ]
  },
  {
   "cell_type": "markdown",
   "metadata": {},
   "source": [
    "### In section  I find the relationship between sex and survived "
   ]
  },
  {
   "cell_type": "markdown",
   "metadata": {},
   "source": [
    "### In the cell below it show how groupby group Sex column. The top number are the male and the bottom numbers are the females"
   ]
  },
  {
   "cell_type": "code",
   "execution_count": 21,
   "metadata": {},
   "outputs": [
    {
     "data": {
      "text/plain": [
       "{'female': Int64Index([  1,   2,   3,   8,   9,  10,  11,  14,  15,  18,\n",
       "             ...\n",
       "             866, 871, 874, 875, 879, 880, 882, 885, 887, 888],\n",
       "            dtype='int64', length=314),\n",
       " 'male': Int64Index([  0,   4,   5,   6,   7,  12,  13,  16,  17,  20,\n",
       "             ...\n",
       "             873, 876, 877, 878, 881, 883, 884, 886, 889, 890],\n",
       "            dtype='int64', length=577)}"
      ]
     },
     "execution_count": 21,
     "metadata": {},
     "output_type": "execute_result"
    }
   ],
   "source": [
    "titanic_df.groupby('Sex').groups      #male top group , female bottom group"
   ]
  },
  {
   "cell_type": "markdown",
   "metadata": {},
   "source": [
    "### In the cell below it compare male and female to all the other column"
   ]
  },
  {
   "cell_type": "code",
   "execution_count": 22,
   "metadata": {},
   "outputs": [
    {
     "data": {
      "text/html": [
       "<div>\n",
       "<style>\n",
       "    .dataframe thead tr:only-child th {\n",
       "        text-align: right;\n",
       "    }\n",
       "\n",
       "    .dataframe thead th {\n",
       "        text-align: left;\n",
       "    }\n",
       "\n",
       "    .dataframe tbody tr th {\n",
       "        vertical-align: top;\n",
       "    }\n",
       "</style>\n",
       "<table border=\"1\" class=\"dataframe\">\n",
       "  <thead>\n",
       "    <tr style=\"text-align: right;\">\n",
       "      <th></th>\n",
       "      <th>PassengerId</th>\n",
       "      <th>Survived</th>\n",
       "      <th>Pclass</th>\n",
       "      <th>Age</th>\n",
       "      <th>SibSp</th>\n",
       "      <th>Parch</th>\n",
       "      <th>Fare</th>\n",
       "    </tr>\n",
       "    <tr>\n",
       "      <th>Sex</th>\n",
       "      <th></th>\n",
       "      <th></th>\n",
       "      <th></th>\n",
       "      <th></th>\n",
       "      <th></th>\n",
       "      <th></th>\n",
       "      <th></th>\n",
       "    </tr>\n",
       "  </thead>\n",
       "  <tbody>\n",
       "    <tr>\n",
       "      <th>female</th>\n",
       "      <td>135343</td>\n",
       "      <td>233</td>\n",
       "      <td>678</td>\n",
       "      <td>7286.00</td>\n",
       "      <td>218</td>\n",
       "      <td>204</td>\n",
       "      <td>13966.6628</td>\n",
       "    </tr>\n",
       "    <tr>\n",
       "      <th>male</th>\n",
       "      <td>262043</td>\n",
       "      <td>109</td>\n",
       "      <td>1379</td>\n",
       "      <td>13919.17</td>\n",
       "      <td>248</td>\n",
       "      <td>136</td>\n",
       "      <td>14727.2865</td>\n",
       "    </tr>\n",
       "  </tbody>\n",
       "</table>\n",
       "</div>"
      ],
      "text/plain": [
       "        PassengerId  Survived  Pclass       Age  SibSp  Parch        Fare\n",
       "Sex                                                                      \n",
       "female       135343       233     678   7286.00    218    204  13966.6628\n",
       "male         262043       109    1379  13919.17    248    136  14727.2865"
      ]
     },
     "execution_count": 22,
     "metadata": {},
     "output_type": "execute_result"
    }
   ],
   "source": [
    "titanic_df.groupby('Sex').sum()          #male and female to call the other section"
   ]
  },
  {
   "cell_type": "markdown",
   "metadata": {},
   "source": [
    "### The cell below it compare male and female to only the Survived"
   ]
  },
  {
   "cell_type": "code",
   "execution_count": 67,
   "metadata": {},
   "outputs": [
    {
     "name": "stdout",
     "output_type": "stream",
     "text": [
      "      Sex  Survived\n",
      "0  female       233\n",
      "1    male       109\n",
      "Populating the interactive namespace from numpy and matplotlib\n"
     ]
    },
    {
     "data": {
      "text/plain": [
       "<matplotlib.axes._subplots.AxesSubplot at 0x1c6dc591f28>"
      ]
     },
     "execution_count": 67,
     "metadata": {},
     "output_type": "execute_result"
    },
    {
     "data": {
      "image/png": "[encoded data removed]",
      "text/plain": [
       "<matplotlib.figure.Figure at 0x1c6dc05ec18>"
      ]
     },
     "metadata": {},
     "output_type": "display_data"
    }
   ],
   "source": [
    "\n",
    "sexvs = (titanic_df.groupby('Sex', as_index = False)['Survived'].sum())  #male and female to only Survived\n",
    "print(sexvs)\n",
    "\n",
    "%pylab inline\n",
    "sexvs.plot.bar(x =\"Sex\")\n",
    "\n"
   ]
  },
  {
   "cell_type": "markdown",
   "metadata": {},
   "source": [
    "### The Cells below it show the mean  and gives more infomation about the about Sex and the Survived"
   ]
  },
  {
   "cell_type": "code",
   "execution_count": 24,
   "metadata": {},
   "outputs": [
    {
     "data": {
      "text/plain": [
       "171.0"
      ]
     },
     "execution_count": 24,
     "metadata": {},
     "output_type": "execute_result"
    }
   ],
   "source": [
    "titanic_df.groupby('Sex').sum()['Survived'].mean() #mean "
   ]
  },
  {
   "cell_type": "code",
   "execution_count": 25,
   "metadata": {},
   "outputs": [
    {
     "data": {
      "text/plain": [
       "count      2.000000\n",
       "mean     171.000000\n",
       "std       87.681241\n",
       "min      109.000000\n",
       "25%      140.000000\n",
       "50%      171.000000\n",
       "75%      202.000000\n",
       "max      233.000000\n",
       "Name: Survived, dtype: float64"
      ]
     },
     "execution_count": 25,
     "metadata": {},
     "output_type": "execute_result"
    }
   ],
   "source": [
    "titanic_df.groupby('Sex').sum()['Survived'].describe()"
   ]
  },
  {
   "cell_type": "markdown",
   "metadata": {},
   "source": [
    "## Exploratory  Data Analysis"
   ]
  },
  {
   "cell_type": "markdown",
   "metadata": {},
   "source": [
    "### Average Age (Overall)"
   ]
  },
  {
   "cell_type": "code",
   "execution_count": 69,
   "metadata": {},
   "outputs": [
    {
     "name": "stdout",
     "output_type": "stream",
     "text": [
      "Populating the interactive namespace from numpy and matplotlib\n"
     ]
    },
    {
     "data": {
      "text/plain": [
       "<matplotlib.text.Text at 0x1c6dc7314a8>"
      ]
     },
     "execution_count": 69,
     "metadata": {},
     "output_type": "execute_result"
    },
    {
     "data": {
      "image/png": "[encoded data removed]",
      "text/plain": [
       "<matplotlib.figure.Figure at 0x1c6dc7311d0>"
      ]
     },
     "metadata": {},
     "output_type": "display_data"
    }
   ],
   "source": [
    "%pylab inline\n",
    "plt.hist(total)\n",
    "plt.xlabel(\"age\")\n",
    "plt.ylabel(\"Frequency\")\n",
    "plt.suptitle(\"Average Age\")"
   ]
  },
  {
   "cell_type": "code",
   "execution_count": 27,
   "metadata": {},
   "outputs": [
    {
     "data": {
      "text/plain": [
       "(29.69911764705882, 28.0, 14.526497332334044)"
      ]
     },
     "execution_count": 27,
     "metadata": {},
     "output_type": "execute_result"
    }
   ],
   "source": [
    "agesum(total) #mean, median, std"
   ]
  },
  {
   "cell_type": "markdown",
   "metadata": {},
   "source": [
    "#### In the graph above you can tell that most of the passanger age was is around 20-25 year old. From 30 year old to 80 year old it a positive skewd. The reason this is import I want to compare to the passanger that did survived in the next graph below."
   ]
  },
  {
   "cell_type": "code",
   "execution_count": null,
   "metadata": {
    "collapsed": true
   },
   "outputs": [],
   "source": []
  },
  {
   "cell_type": "markdown",
   "metadata": {},
   "source": [
    "#### For the infomation above we findout that average age of the Passenger that was on the Titanic was around 29 year old."
   ]
  },
  {
   "cell_type": "code",
   "execution_count": null,
   "metadata": {
    "collapsed": true
   },
   "outputs": [],
   "source": []
  },
  {
   "cell_type": "markdown",
   "metadata": {},
   "source": [
    "### Average Age(Still Alive)"
   ]
  },
  {
   "cell_type": "code",
   "execution_count": 68,
   "metadata": {},
   "outputs": [
    {
     "name": "stdout",
     "output_type": "stream",
     "text": [
      "Populating the interactive namespace from numpy and matplotlib\n"
     ]
    },
    {
     "data": {
      "text/plain": [
       "<matplotlib.text.Text at 0x1c6dc5e71d0>"
      ]
     },
     "execution_count": 68,
     "metadata": {},
     "output_type": "execute_result"
    },
    {
     "data": {
      "image/png": "[encoded data removed]",
      "text/plain": [
       "<matplotlib.figure.Figure at 0x1c6dc5e7208>"
      ]
     },
     "metadata": {},
     "output_type": "display_data"
    }
   ],
   "source": [
    "%pylab inline\n",
    "plt.hist(onestill[\"Age\"])\n",
    "plt.xlabel(\"Age\")\n",
    "plt.ylabel(\"Frequency\")\n",
    "plt.suptitle(\"Average age for Still Alive Passenger\")"
   ]
  },
  {
   "cell_type": "code",
   "execution_count": 29,
   "metadata": {},
   "outputs": [
    {
     "data": {
      "text/plain": [
       "(28.343689655172415, 28.0, 14.950951984140426)"
      ]
     },
     "execution_count": 29,
     "metadata": {},
     "output_type": "execute_result"
    }
   ],
   "source": [
    "ave(onestill[\"Age\"]) # mean ,median, std"
   ]
  },
  {
   "cell_type": "markdown",
   "metadata": {},
   "source": [
    "#### In the graph above you can tell that most age that live is around 25 to 30 year old that are still alive. What Interesting is that most people around 63 to 72 years old didn't survived but a small amount around 73 to 79 years old did survived. Compare to the graph from Average age passanger around 0 to 5 year old around 15 passanger didn't make it and and passanger around 8 to 18 year old about half didn't make it."
   ]
  },
  {
   "cell_type": "code",
   "execution_count": null,
   "metadata": {
    "collapsed": true
   },
   "outputs": [],
   "source": []
  },
  {
   "cell_type": "markdown",
   "metadata": {},
   "source": [
    "#### With the infomation above we can tell that the average age is 28 year old for the only the survivors."
   ]
  },
  {
   "cell_type": "code",
   "execution_count": null,
   "metadata": {
    "collapsed": true
   },
   "outputs": [],
   "source": []
  },
  {
   "cell_type": "markdown",
   "metadata": {},
   "source": [
    "## Sex and Survived\n"
   ]
  },
  {
   "cell_type": "code",
   "execution_count": 30,
   "metadata": {},
   "outputs": [
    {
     "name": "stdout",
     "output_type": "stream",
     "text": [
      "      Sex  Survived\n",
      "0  female       233\n",
      "1    male       109\n"
     ]
    }
   ],
   "source": [
    "print(sexvs)"
   ]
  },
  {
   "cell_type": "code",
   "execution_count": 71,
   "metadata": {},
   "outputs": [
    {
     "data": {
      "text/plain": [
       "<matplotlib.text.Text at 0x1c6dc8eeb70>"
      ]
     },
     "execution_count": 71,
     "metadata": {},
     "output_type": "execute_result"
    },
    {
     "data": {
      "image/png": "[encoded data removed]",
      "text/plain": [
       "<matplotlib.figure.Figure at 0x1c6dc9ccef0>"
      ]
     },
     "metadata": {},
     "output_type": "display_data"
    }
   ],
   "source": [
    "\n",
    "\n",
    "\n",
    "sexvs.plot.bar(x = \"Sex\")\n",
    "plt.ylabel(\"Survived\")"
   ]
  },
  {
   "cell_type": "markdown",
   "metadata": {},
   "source": [
    "#### From the infromation above we can tell that more Female Survived  by almost the double of the Male. \n",
    "\n",
    "#### In the graph above it show that more female survived than male by almost double. This is very interesting because it show that female must have been have been the number one priorty to save. "
   ]
  },
  {
   "cell_type": "markdown",
   "metadata": {},
   "source": [
    "## Conclusion and Finding "
   ]
  },
  {
   "cell_type": "markdown",
   "metadata": {},
   "source": [
    "### Limitations:\n",
    "\n",
    "##### Couple of the limitation is that i have to believe this is sample of the population because I don't know if i am givin the whole data or maybe their passanger that are missing. Another limitation while coding their were passangers that did not have a age so i have to drop them from my list. While trying to find the ages of only the survivor their were few passanger that did not have a age or suvivor status so i have to drop them from my list. These missing information can change my information if you add the missing value."
   ]
  },
  {
   "cell_type": "markdown",
   "metadata": {},
   "source": [
    "### Conclusion\n",
    "\n",
    "#### In conclusion the average age of the passager that were on the Titanic was around 29 year old. The average age that Survived was around 28 year old. We also found out that more Female survived than Male making them priorty to be saved."
   ]
  },
  {
   "cell_type": "code",
   "execution_count": null,
   "metadata": {
    "collapsed": true
   },
   "outputs": [],
   "source": []
  }
 ],
 "metadata": {
  "kernelspec": {
   "display_name": "Python 3",
   "language": "python",
   "name": "python3"
  },
  "language_info": {
   "codemirror_mode": {
    "name": "ipython",
    "version": 3
   },
   "file_extension": ".py",
   "mimetype": "text/x-python",
   "name": "python",
   "nbconvert_exporter": "python",
   "pygments_lexer": "ipython3",
   "version": "3.6.1"
  }
 },
 "nbformat": 4,
 "nbformat_minor": 2
}
